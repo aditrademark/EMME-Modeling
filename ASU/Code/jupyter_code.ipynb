{
 "cells": [
  {
   "cell_type": "code",
   "execution_count": null,
   "id": "19ddaf56",
   "metadata": {},
   "outputs": [],
   "source": [
    "# Import modules\n",
    "import osm2gmns as og\n",
    "import pandas as pd\n",
    "import grid2demand as gd\n",
    "\n",
    "# Download OSM map, if applicable\n",
    "# og.downloadOSMData(3444656, 'asu.osm')\n",
    "\n",
    "# Produce routable network along with POIs\n",
    "net = og.getNetFromFile('asu.osm', \n",
    "                        network_types=('auto','bike','walk'), \n",
    "                        POI=True,\n",
    "                        strict_mode=True, \n",
    "                        default_lanes=True, \n",
    "                        default_speed=True, \n",
    "                        default_capacity=True, \n",
    "                        start_node_id=1, \n",
    "                        start_link_id=1)\n",
    "default_lanes_dict = {'motorway': 4, 'trunk': 3, 'primary': 3, 'secondary': 2, 'tertiary': 2,\n",
    "                      'residential': 1, 'service': 1, 'cycleway':1, 'footway':1, 'track':1,\n",
    "                      'unclassified': 1, 'connector': 2}\n",
    "default_speed_dict = {'motorway': 120, 'trunk': 100, 'primary': 80, 'secondary': 60, 'tertiary': 40,\n",
    "                      'residential': 30, 'service': 30, 'cycleway':5, 'footway':5, 'track':30,\n",
    "                      'unclassified': 30, 'connector':120}\n",
    "default_capacity_dict = {'motorway': 2300, 'trunk': 2200, 'primary': 1800, 'secondary': 1600, 'tertiary': 1200,\n",
    "                      'residential': 1000, 'service': 800, 'cycleway':800, 'footway':800, 'track':800,\n",
    "                      'unclassified': 800, 'connector':9999}\n",
    "og.outputNetToCSV(net)\n",
    "\n",
    "# Modify the allowed_users (modes) in the link file to better-fit EMME's requirement\n",
    "df = pd.read_csv('link.csv')\n",
    "word_to_letter = {\n",
    "    'auto':'a',\n",
    "    'walk':'w',\n",
    "    'bike':'b'}\n",
    "\n",
    "df['allowed_uses'] = df['allowed_uses'].str.replace('|'.join(word_to_letter.keys()), \n",
    "                                                    lambda x: word_to_letter[x.group()], regex=True)\n",
    "df['allowed_uses'] = df['allowed_uses'].str.replace(';', '')\n",
    "df.to_csv('link.csv', index=False)\n",
    "\n",
    "# Produce cell grids\n",
    "net = gd.ReadNetworkFiles(input_folder='C:\\\\Users\\\\aditr\\\\OneDrive\\\\Desktop\\\\Arizona State University\\\\GitHub\\\\Modeling\\\\ASU\\\\Code')\n",
    "zone = gd.PartitionGrid(number_of_x_blocks=5, number_of_y_blocks=5)\n"
   ]
  }
 ],
 "metadata": {
  "kernelspec": {
   "display_name": "Python 3 (ipykernel)",
   "language": "python",
   "name": "python3"
  },
  "language_info": {
   "codemirror_mode": {
    "name": "ipython",
    "version": 3
   },
   "file_extension": ".py",
   "mimetype": "text/x-python",
   "name": "python",
   "nbconvert_exporter": "python",
   "pygments_lexer": "ipython3",
   "version": "3.10.9"
  }
 },
 "nbformat": 4,
 "nbformat_minor": 5
}
